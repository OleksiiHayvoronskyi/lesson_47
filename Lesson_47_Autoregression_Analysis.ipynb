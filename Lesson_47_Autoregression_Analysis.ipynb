{
 "metadata": {
  "language_info": {
   "codemirror_mode": {
    "name": "python",
    "version": 3
   },
   "file_extension": ".py",
   "mimetype": "text/x-python",
   "name": "python",
   "nbconvert_exporter": "python",
   "pygments_lexer": "ipython3",
   "version": "3.8"
  },
  "kernelspec": {
   "name": "python",
   "display_name": "Python (Pyodide)",
   "language": "python"
  }
 },
 "nbformat_minor": 4,
 "nbformat": 4,
 "cells": [
  {
   "cell_type": "markdown",
   "source": [
    "**Завдання**\n",
    "### Протестуйте описані в лекції методи і моделі на датасеті **AirPassengers.csv**. \n",
    "### Порівняйте метрики оцінки моделі для двох датасетів."
   ],
   "metadata": {}
  },
  {
   "cell_type": "code",
   "source": [
    "import pandas as pd\n",
    "import matplotlib\n",
    "import matplotlib.pylab as plt\n",
    "import statsmodels.api as sm\n",
    "from statsmodels.tsa.tsatools import acf, pacf\n",
    "from statsmodels.graphics.tsaplots import plot_acf, plot_pacf\n"
   ],
   "metadata": {
    "trusted": true,
    "pycharm": {
     "is_executing": true
    }
   },
   "execution_count": null,
   "outputs": []
  },
  {
   "cell_type": "code",
   "source": [
    "df_airpass = pd.read_csv('AirPassengers.csv')\n",
    "print('BEFORE making a \"Month\" column as an index column:')\n",
    "df_airpass\n"
   ],
   "metadata": {
    "trusted": true,
    "pycharm": {
     "is_executing": true
    }
   },
   "execution_count": null,
   "outputs": []
  },
  {
   "cell_type": "code",
   "source": [
    "df_airpass.isnull().sum()\n"
   ],
   "metadata": {
    "trusted": true,
    "pycharm": {
     "is_executing": true
    }
   },
   "execution_count": null,
   "outputs": []
  },
  {
   "cell_type": "code",
   "source": [
    "# Index definition.\n",
    "idx = df_airpass['Month']\n",
    "\n",
    "# Converting 'Month' with object type (str type) into 'int' type.\n",
    "df_airpass['Month'] = pd.to_datetime(df_airpass['Month'])"
   ],
   "metadata": {
    "trusted": true,
    "pycharm": {
     "is_executing": true
    }
   },
   "execution_count": null,
   "outputs": []
  },
  {
   "cell_type": "code",
   "source": [
    "# Making 'Month' as an index column.\n",
    "df_airpass.set_index('Month', inplace=True)\n",
    "print('AFTER: \"Month\" is an index now:')\n",
    "df_airpass"
   ],
   "metadata": {
    "trusted": true,
    "pycharm": {
     "is_executing": true
    }
   },
   "execution_count": null,
   "outputs": []
  },
  {
   "cell_type": "code",
   "source": [
    "# Visualisation the AirPassengers datasets.\n",
    "matplotlib.rcParams['figure.figsize'] = [10, 8]\n",
    "df_airpass.plot()\n",
    "plt.show()\n"
   ],
   "metadata": {
    "trusted": true,
    "pycharm": {
     "is_executing": true
    }
   },
   "execution_count": null,
   "outputs": []
  },
  {
   "cell_type": "code",
   "source": [
    "# Making 'acf' correlation.\n",
    "acf_corr = acf(df_airpass.Passengers)\n"
   ],
   "metadata": {
    "trusted": true,
    "pycharm": {
     "is_executing": true
    }
   },
   "execution_count": null,
   "outputs": []
  },
  {
   "cell_type": "code",
   "source": [
    "# Making 'pacf' correlation.\n",
    "pacf_corr = pacf(df_airpass.Passengers)\n"
   ],
   "metadata": {},
   "execution_count": null,
   "outputs": []
  },
  {
   "cell_type": "code",
   "source": [
    "# Heatmap correlation.\n",
    "import seaborn as sns\n",
    "\n",
    "\n",
    "sns.heatmap(df_airpass, annot=True)\n"
   ],
   "metadata": {},
   "execution_count": null,
   "outputs": []
  }
 ]
}
